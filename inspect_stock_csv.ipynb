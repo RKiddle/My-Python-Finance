{
 "cells": [
  {
   "cell_type": "code",
   "execution_count": 4,
   "metadata": {},
   "outputs": [
    {
     "name": "stdout",
     "output_type": "stream",
     "text": [
      "         date    open    high     low   close\n",
      "0  2015-03-18  162.56  166.10  160.00  162.56\n",
      "1  2015-03-19  162.10  168.76  161.54  160.57\n",
      "2  2015-03-20  168.85  169.00  161.76  164.65\n",
      "3  2015-03-23  164.42  167.24  167.41  166.70\n",
      "4  2015-03-24  172.94  171.14  167.10  166.00\n",
      "5  2015-03-25  167.29  164.16  163.10  165.00\n",
      "6  2015-03-26  164.42  163.99  161.08  168.20\n",
      "7  2015-03-27  163.64  163.70  166.08  162.60\n",
      "8  2015-03-30  167.27  170.90  168.97  164.56\n",
      "9  2015-03-31  168.41  167.10  167.20  165.80\n",
      "<class 'pandas.core.frame.DataFrame'>\n",
      "RangeIndex: 1261 entries, 0 to 1260\n",
      "Data columns (total 5 columns):\n",
      "date     1261 non-null object\n",
      "open     1261 non-null float64\n",
      "high     1261 non-null float64\n",
      "low      1261 non-null float64\n",
      "close    1261 non-null float64\n",
      "dtypes: float64(4), object(1)\n",
      "memory usage: 49.4+ KB\n"
     ]
    }
   ],
   "source": [
    "# Import pandas library\n",
    "import pandas as pd\n",
    "\n",
    "# Import the data\n",
    "ibm = pd.read_csv('ibm.csv', na_values='NAN')\n",
    "\n",
    "# Display first 10 rows\n",
    "print(ibm.head(10))\n",
    "\n",
    "# Inspect nasdaq\n",
    "ibm.info()"
   ]
  },
  {
   "cell_type": "code",
   "execution_count": null,
   "metadata": {},
   "outputs": [],
   "source": []
  }
 ],
 "metadata": {
  "kernelspec": {
   "display_name": "Python 3",
   "language": "python",
   "name": "python3"
  },
  "language_info": {
   "codemirror_mode": {
    "name": "ipython",
    "version": 3
   },
   "file_extension": ".py",
   "mimetype": "text/x-python",
   "name": "python",
   "nbconvert_exporter": "python",
   "pygments_lexer": "ipython3",
   "version": "3.7.3"
  }
 },
 "nbformat": 4,
 "nbformat_minor": 4
}
